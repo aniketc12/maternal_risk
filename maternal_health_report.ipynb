{
 "cells": [
  {
   "cell_type": "markdown",
   "id": "997bab8e-1350-4efa-8b6e-89e268d4555d",
   "metadata": {},
   "source": [
    "#### Classifying the Risk Intensity Level for Maternal Mortality during Pregnancy"
   ]
  },
  {
   "cell_type": "code",
   "execution_count": null,
   "id": "393208a4-0a43-42c9-bd8f-219d86222b00",
   "metadata": {},
   "outputs": [],
   "source": []
  }
 ],
 "metadata": {
  "kernelspec": {
   "display_name": "R",
   "language": "R",
   "name": "ir"
  },
  "language_info": {
   "codemirror_mode": "r",
   "file_extension": ".r",
   "mimetype": "text/x-r-source",
   "name": "R",
   "pygments_lexer": "r",
   "version": "4.1.3"
  }
 },
 "nbformat": 4,
 "nbformat_minor": 5
}
