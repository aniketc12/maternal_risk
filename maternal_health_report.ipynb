{
 "cells": [
  {
   "cell_type": "markdown",
   "id": "997bab8e-1350-4efa-8b6e-89e268d4555d",
   "metadata": {},
   "source": [
    "# Classifying the Risk Intensity Level for Maternal Mortality during Pregnancy\n",
    "#### Raychal Ng, Aniket Chakraborty, Hamrah R, Revanda Ghassan R"
   ]
  },
  {
   "cell_type": "markdown",
   "id": "e7157dfa-8f23-4438-b616-7b7e7f899df6",
   "metadata": {},
   "source": [
    "## Introduction"
   ]
  },
  {
   "cell_type": "markdown",
   "id": "aba14798-0993-4c63-a74d-99eb7dc30828",
   "metadata": {},
   "source": [
    "This dataset presents six factors that affect maternal mortality: age; systolic BP ( pressure in the arteries when the heart beats in mmHg); diastolic BP (pressure in the arteries during rests between beats in mmHg); blood sugar (blood glucose level in mmol/L), body temperature (in Fahrenheit), and heart rate in beats per minute. Deviation from normal levels in these factors contributes to maternal mortality. The data was obtained from different hospitals and clinics in Bangladesh. It was collected using the loT-based risk monitoring system which contains data from mechanical and digital machines used on patients. The risk level for mortality was classified for 1014 pregnancies based on midwifery assessments. \n",
    "\n",
    "#### Predictive Question\n",
    "We aim to answer the question: Can we reliably predict maternal mortality in the future based on data collected during patient admission, i.e. age, systolic BP, diastolic BP and blood sugar."
   ]
  },
  {
   "cell_type": "markdown",
   "id": "0ddd098d-a9ae-41db-ba96-95466acedbd2",
   "metadata": {},
   "source": [
    "## Methods & Results"
   ]
  },
  {
   "cell_type": "markdown",
   "id": "03ff1cae-81e4-4eee-bf0e-1c38384e84d8",
   "metadata": {},
   "source": [
    "### Preliminary Exploratory Data Analysis"
   ]
  },
  {
   "cell_type": "code",
   "execution_count": 1,
   "id": "3838da66-e514-4272-97d8-70c17b298c10",
   "metadata": {},
   "outputs": [
    {
     "name": "stderr",
     "output_type": "stream",
     "text": [
      "Warning message in system(\"timedatectl\", intern = TRUE):\n",
      "“running command 'timedatectl' had status 1”\n",
      "── \u001b[1mAttaching packages\u001b[22m ─────────────────────────────────────── tidyverse 1.3.2 ──\n",
      "\u001b[32m✔\u001b[39m \u001b[34mggplot2\u001b[39m 3.3.6     \u001b[32m✔\u001b[39m \u001b[34mpurrr  \u001b[39m 0.3.4\n",
      "\u001b[32m✔\u001b[39m \u001b[34mtibble \u001b[39m 3.1.8     \u001b[32m✔\u001b[39m \u001b[34mdplyr  \u001b[39m 1.0.9\n",
      "\u001b[32m✔\u001b[39m \u001b[34mtidyr  \u001b[39m 1.2.0     \u001b[32m✔\u001b[39m \u001b[34mstringr\u001b[39m 1.4.1\n",
      "\u001b[32m✔\u001b[39m \u001b[34mreadr  \u001b[39m 2.1.2     \u001b[32m✔\u001b[39m \u001b[34mforcats\u001b[39m 0.5.2\n",
      "── \u001b[1mConflicts\u001b[22m ────────────────────────────────────────── tidyverse_conflicts() ──\n",
      "\u001b[31m✖\u001b[39m \u001b[34mdplyr\u001b[39m::\u001b[32mfilter()\u001b[39m masks \u001b[34mstats\u001b[39m::filter()\n",
      "\u001b[31m✖\u001b[39m \u001b[34mdplyr\u001b[39m::\u001b[32mlag()\u001b[39m    masks \u001b[34mstats\u001b[39m::lag()\n",
      "── \u001b[1mAttaching packages\u001b[22m ────────────────────────────────────── tidymodels 1.0.0 ──\n",
      "\n",
      "\u001b[32m✔\u001b[39m \u001b[34mbroom       \u001b[39m 1.0.1     \u001b[32m✔\u001b[39m \u001b[34mrsample     \u001b[39m 1.1.0\n",
      "\u001b[32m✔\u001b[39m \u001b[34mdials       \u001b[39m 1.1.0     \u001b[32m✔\u001b[39m \u001b[34mtune        \u001b[39m 1.0.1\n",
      "\u001b[32m✔\u001b[39m \u001b[34minfer       \u001b[39m 1.0.4     \u001b[32m✔\u001b[39m \u001b[34mworkflows   \u001b[39m 1.1.2\n",
      "\u001b[32m✔\u001b[39m \u001b[34mmodeldata   \u001b[39m 1.0.1     \u001b[32m✔\u001b[39m \u001b[34mworkflowsets\u001b[39m 1.0.0\n",
      "\u001b[32m✔\u001b[39m \u001b[34mparsnip     \u001b[39m 1.0.3     \u001b[32m✔\u001b[39m \u001b[34myardstick   \u001b[39m 1.1.0\n",
      "\u001b[32m✔\u001b[39m \u001b[34mrecipes     \u001b[39m 1.0.1     \n",
      "\n",
      "── \u001b[1mConflicts\u001b[22m ───────────────────────────────────────── tidymodels_conflicts() ──\n",
      "\u001b[31m✖\u001b[39m \u001b[34mscales\u001b[39m::\u001b[32mdiscard()\u001b[39m masks \u001b[34mpurrr\u001b[39m::discard()\n",
      "\u001b[31m✖\u001b[39m \u001b[34mdplyr\u001b[39m::\u001b[32mfilter()\u001b[39m   masks \u001b[34mstats\u001b[39m::filter()\n",
      "\u001b[31m✖\u001b[39m \u001b[34mrecipes\u001b[39m::\u001b[32mfixed()\u001b[39m  masks \u001b[34mstringr\u001b[39m::fixed()\n",
      "\u001b[31m✖\u001b[39m \u001b[34mdplyr\u001b[39m::\u001b[32mlag()\u001b[39m      masks \u001b[34mstats\u001b[39m::lag()\n",
      "\u001b[31m✖\u001b[39m \u001b[34myardstick\u001b[39m::\u001b[32mspec()\u001b[39m masks \u001b[34mreadr\u001b[39m::spec()\n",
      "\u001b[31m✖\u001b[39m \u001b[34mrecipes\u001b[39m::\u001b[32mstep()\u001b[39m   masks \u001b[34mstats\u001b[39m::step()\n",
      "\u001b[34m•\u001b[39m Use \u001b[32mtidymodels_prefer()\u001b[39m to resolve common conflicts.\n",
      "\n",
      "\n",
      "Attaching package: ‘gridExtra’\n",
      "\n",
      "\n",
      "The following object is masked from ‘package:dplyr’:\n",
      "\n",
      "    combine\n",
      "\n",
      "\n"
     ]
    }
   ],
   "source": [
    "library(tidyverse)\n",
    "library(tidymodels)\n",
    "library(gridExtra)\n",
    "library(RColorBrewer)"
   ]
  },
  {
   "cell_type": "code",
   "execution_count": 2,
   "id": "9f1ad5a5-6689-49f4-8148-9c0cf83e2acc",
   "metadata": {},
   "outputs": [
    {
     "name": "stderr",
     "output_type": "stream",
     "text": [
      "\u001b[1mRows: \u001b[22m\u001b[34m1014\u001b[39m \u001b[1mColumns: \u001b[22m\u001b[34m7\u001b[39m\n",
      "\u001b[36m──\u001b[39m \u001b[1mColumn specification\u001b[22m \u001b[36m────────────────────────────────────────────────────────\u001b[39m\n",
      "\u001b[1mDelimiter:\u001b[22m \",\"\n",
      "\u001b[31mchr\u001b[39m (1): RiskLevel\n",
      "\u001b[32mdbl\u001b[39m (6): Age, SystolicBP, DiastolicBP, BS, BodyTemp, HeartRate\n",
      "\n",
      "\u001b[36mℹ\u001b[39m Use `spec()` to retrieve the full column specification for this data.\n",
      "\u001b[36mℹ\u001b[39m Specify the column types or set `show_col_types = FALSE` to quiet this message.\n"
     ]
    }
   ],
   "source": [
    "maternal_health_dataset <- read_csv(\"https://raw.githubusercontent.com/aniketc12/maternal_risk/main/data/maternal_health_risk.csv\") \n",
    "maternal_health_dataset <- maternal_health_dataset |>\n",
    "    mutate(RiskLevel =as_factor(RiskLevel)) #the RiskLevel was mutated to be a factor instead of a character input\n",
    "colnames(maternal_health_dataset) <- c(\"Age\", \"SystolicBP\", \"DiastolicBP\", \"BloodSugar\", \"BodyTemp\", \"HeartRate\", \"RiskLevel\") #all column names remained the same, except \"BS\" was changed to \"BloodSugar\" for easier readability"
   ]
  },
  {
   "cell_type": "code",
   "execution_count": 3,
   "id": "7198feb6-06c1-405d-a64e-38f1d4f1107f",
   "metadata": {},
   "outputs": [],
   "source": [
    "set.seed(1) #seed was set to ensure reproducibility of code \n",
    "maternal_health_dataset <- maternal_health_dataset |>\n",
    "    select(!c(\"BodyTemp\", \"HeartRate\")) #select for all columns except BodyTemp and HeartRate as these were not a part of our chosen variables (discussed in graphs 1-4) \n",
    "maternal_split <- initial_split(maternal_health_dataset, prop = 0.75, strata = RiskLevel) #the dataset was split into a training and testing set\n",
    "training_set <- training(maternal_split) #the training set will be used for building the classifier\n",
    "testing_set <- testing(maternal_split) #the testing set will be saved until the end to test the accuracy of the classifier"
   ]
  },
  {
   "cell_type": "markdown",
   "id": "b55c986a-0469-4f5d-a072-13b96415a76f",
   "metadata": {},
   "source": [
    "#### Graphs "
   ]
  },
  {
   "cell_type": "markdown",
   "id": "ddbd9bd2-ec67-451a-a62a-c03a27dc96c5",
   "metadata": {},
   "source": [
    "#### Table 1: Number of Observations in Each Maternal Mortality Risk Level "
   ]
  },
  {
   "cell_type": "markdown",
   "id": "0a832fcf-f8fd-4577-a7c5-be636051e696",
   "metadata": {},
   "source": [
    "In Table 1, the distribution of the three risk levels for maternal mortality in the training data was tabulated to determine the spread of data across the classes."
   ]
  },
  {
   "cell_type": "code",
   "execution_count": 4,
   "id": "55dbab04-8f7f-4a93-8ea0-75a7b0d0fff7",
   "metadata": {},
   "outputs": [
    {
     "data": {
      "text/html": [
       "<table class=\"dataframe\">\n",
       "<caption>A tibble: 3 × 2</caption>\n",
       "<thead>\n",
       "\t<tr><th scope=col>RiskLevel</th><th scope=col>n</th></tr>\n",
       "\t<tr><th scope=col>&lt;fct&gt;</th><th scope=col>&lt;int&gt;</th></tr>\n",
       "</thead>\n",
       "<tbody>\n",
       "\t<tr><td>high risk</td><td>204</td></tr>\n",
       "\t<tr><td>low risk </td><td>304</td></tr>\n",
       "\t<tr><td>mid risk </td><td>252</td></tr>\n",
       "</tbody>\n",
       "</table>\n"
      ],
      "text/latex": [
       "A tibble: 3 × 2\n",
       "\\begin{tabular}{ll}\n",
       " RiskLevel & n\\\\\n",
       " <fct> & <int>\\\\\n",
       "\\hline\n",
       "\t high risk & 204\\\\\n",
       "\t low risk  & 304\\\\\n",
       "\t mid risk  & 252\\\\\n",
       "\\end{tabular}\n"
      ],
      "text/markdown": [
       "\n",
       "A tibble: 3 × 2\n",
       "\n",
       "| RiskLevel &lt;fct&gt; | n &lt;int&gt; |\n",
       "|---|---|\n",
       "| high risk | 204 |\n",
       "| low risk  | 304 |\n",
       "| mid risk  | 252 |\n",
       "\n"
      ],
      "text/plain": [
       "  RiskLevel n  \n",
       "1 high risk 204\n",
       "2 low risk  304\n",
       "3 mid risk  252"
      ]
     },
     "metadata": {},
     "output_type": "display_data"
    }
   ],
   "source": [
    "risk_distribution <- training_set |>\n",
    "group_by(RiskLevel) |> #the data was grouped by the three risk levels\n",
    "summarize(n=n()) # the number of observations in each class was summarized\n",
    "risk_distribution"
   ]
  },
  {
   "cell_type": "markdown",
   "id": "b4f73edd-bd5b-47b0-95e6-45d8ffc6c0f9",
   "metadata": {},
   "source": [
    "The training data was grouped by the three risk levels for maternal mortality and then the number of observations in each group was summarized. As the number of observations in each class is relatively equal (204-304), no further balancing of data is needed and we can proceed with building the classifier.  "
   ]
  },
  {
   "cell_type": "markdown",
   "id": "7b3652d9-a37f-418f-9d6d-37cd4d73e582",
   "metadata": {},
   "source": [
    "#### Table 2: Tabulation of the total number of ‘NA’ values in the training data "
   ]
  },
  {
   "cell_type": "code",
   "execution_count": 5,
   "id": "3902e8b2-be6e-4389-9614-ab31f2789991",
   "metadata": {},
   "outputs": [
    {
     "data": {
      "text/html": [
       "<table class=\"dataframe\">\n",
       "<caption>A tibble: 1 × 1</caption>\n",
       "<thead>\n",
       "\t<tr><th scope=col>number_of_na_values</th></tr>\n",
       "\t<tr><th scope=col>&lt;int&gt;</th></tr>\n",
       "</thead>\n",
       "<tbody>\n",
       "\t<tr><td>0</td></tr>\n",
       "</tbody>\n",
       "</table>\n"
      ],
      "text/latex": [
       "A tibble: 1 × 1\n",
       "\\begin{tabular}{l}\n",
       " number\\_of\\_na\\_values\\\\\n",
       " <int>\\\\\n",
       "\\hline\n",
       "\t 0\\\\\n",
       "\\end{tabular}\n"
      ],
      "text/markdown": [
       "\n",
       "A tibble: 1 × 1\n",
       "\n",
       "| number_of_na_values &lt;int&gt; |\n",
       "|---|\n",
       "| 0 |\n",
       "\n"
      ],
      "text/plain": [
       "  number_of_na_values\n",
       "1 0                  "
      ]
     },
     "metadata": {},
     "output_type": "display_data"
    }
   ],
   "source": [
    "na <- tibble(number_of_na_values = sum(is.na(training_set))) \n",
    "na"
   ]
  },
  {
   "cell_type": "markdown",
   "id": "ceefc109-80bb-40aa-b267-5811ba2a0d43",
   "metadata": {},
   "source": [
    "In table 2, the total number of NA values across the training set was summed to determine if there was any missing data in the observations.  However, none of the observations contain an NA value so no special wrangling of data is required and all observations can be used to build the classifier. "
   ]
  },
  {
   "cell_type": "markdown",
   "id": "b7fc6eed-7396-461b-9365-1f62cb3a08ff",
   "metadata": {},
   "source": [
    "### Tables 3 to 5"
   ]
  },
  {
   "cell_type": "markdown",
   "id": "d45d7443-6876-488e-9e03-d3f5a73774c0",
   "metadata": {},
   "source": [
    "Tables 3 to 5 shows the range (max and min) of the four chosen variables (age, systolic BP, diastolic BP, and blood sugar) for high, mid and low risk pregnancies, respectively. There is a wide range of data for each class and the max and min of the four variables do not differ drastically between the classes, thus examination of the distribution of each variable across the classes must be conducted."
   ]
  },
  {
   "cell_type": "markdown",
   "id": "a5f5f692-c6f0-4cc6-a600-1652237c2655",
   "metadata": {},
   "source": [
    "#### Table 3: Max and Minimum Values of the Four Chosen Variables in High Risk Pregnancies"
   ]
  },
  {
   "cell_type": "code",
   "execution_count": 6,
   "id": "b0daeb49-eb73-4531-9900-578917aaf755",
   "metadata": {},
   "outputs": [
    {
     "name": "stderr",
     "output_type": "stream",
     "text": [
      "\u001b[1m\u001b[22mJoining, by = c(\"Age\", \"SystolicBP\", \"DiastolicBP\", \"BloodSugar\")\n"
     ]
    },
    {
     "data": {
      "text/html": [
       "<table class=\"dataframe\">\n",
       "<caption>A tibble: 2 × 4</caption>\n",
       "<thead>\n",
       "\t<tr><th scope=col>Age</th><th scope=col>SystolicBP</th><th scope=col>DiastolicBP</th><th scope=col>BloodSugar</th></tr>\n",
       "\t<tr><th scope=col>&lt;dbl&gt;</th><th scope=col>&lt;dbl&gt;</th><th scope=col>&lt;dbl&gt;</th><th scope=col>&lt;dbl&gt;</th></tr>\n",
       "</thead>\n",
       "<tbody>\n",
       "\t<tr><td>12</td><td> 83</td><td> 60</td><td> 6.1</td></tr>\n",
       "\t<tr><td>65</td><td>160</td><td>100</td><td>19.0</td></tr>\n",
       "</tbody>\n",
       "</table>\n"
      ],
      "text/latex": [
       "A tibble: 2 × 4\n",
       "\\begin{tabular}{llll}\n",
       " Age & SystolicBP & DiastolicBP & BloodSugar\\\\\n",
       " <dbl> & <dbl> & <dbl> & <dbl>\\\\\n",
       "\\hline\n",
       "\t 12 &  83 &  60 &  6.1\\\\\n",
       "\t 65 & 160 & 100 & 19.0\\\\\n",
       "\\end{tabular}\n"
      ],
      "text/markdown": [
       "\n",
       "A tibble: 2 × 4\n",
       "\n",
       "| Age &lt;dbl&gt; | SystolicBP &lt;dbl&gt; | DiastolicBP &lt;dbl&gt; | BloodSugar &lt;dbl&gt; |\n",
       "|---|---|---|---|\n",
       "| 12 |  83 |  60 |  6.1 |\n",
       "| 65 | 160 | 100 | 19.0 |\n",
       "\n"
      ],
      "text/plain": [
       "  Age SystolicBP DiastolicBP BloodSugar\n",
       "1 12   83         60          6.1      \n",
       "2 65  160        100         19.0      "
      ]
     },
     "metadata": {},
     "output_type": "display_data"
    }
   ],
   "source": [
    "min_vals_high <- training_set |>\n",
    "    filter(RiskLevel == \"high risk\") |> #the dataset was filtered to only show observations from the high risk class\n",
    "    select(!RiskLevel) |> #all columns except the 'RiskLevel' variable was selected for as we already know all observations are from the high risk level\n",
    "    map_df(min) #the minimum value of each variable was determined\n",
    "\n",
    "max_vals_high <- training_set |>\n",
    "    filter(RiskLevel == \"high risk\") |>\n",
    "    select(!RiskLevel) |>\n",
    "    map_df(max) #the maximum value of each variable was determined\n",
    "\n",
    "high_risk_variable_range <- full_join(min_vals_high, max_vals_high) #the maximum and minimum values determined from above were joined into a table\n",
    "\n",
    "high_risk_variable_range"
   ]
  },
  {
   "cell_type": "markdown",
   "id": "658743d9-6e00-4514-9de3-1a898064bb43",
   "metadata": {},
   "source": [
    "Table 3 shows the range of each variable for pregnancies categorized as high risk: the age ranged from 12-65 years old, the Systolic BP ranged from 83-160 mmHg, the Diastolic BP ranged from 60-100 mmHg, and the blood sugar ranged from 6.1-19.0 mmol/L."
   ]
  },
  {
   "cell_type": "markdown",
   "id": "843de668-b20e-4da0-89e0-217cde70f0e4",
   "metadata": {},
   "source": [
    "#### Table 4: Max and Minimum Values of the Four Chosen Variables in Mid Risk Pregnancies"
   ]
  },
  {
   "cell_type": "code",
   "execution_count": 7,
   "id": "fb71b993-cad6-4f57-aeae-3a19735fd72a",
   "metadata": {},
   "outputs": [
    {
     "name": "stderr",
     "output_type": "stream",
     "text": [
      "\u001b[1m\u001b[22mJoining, by = c(\"Age\", \"SystolicBP\", \"DiastolicBP\", \"BloodSugar\")\n"
     ]
    },
    {
     "data": {
      "text/html": [
       "<table class=\"dataframe\">\n",
       "<caption>A tibble: 2 × 4</caption>\n",
       "<thead>\n",
       "\t<tr><th scope=col>Age</th><th scope=col>SystolicBP</th><th scope=col>DiastolicBP</th><th scope=col>BloodSugar</th></tr>\n",
       "\t<tr><th scope=col>&lt;dbl&gt;</th><th scope=col>&lt;dbl&gt;</th><th scope=col>&lt;dbl&gt;</th><th scope=col>&lt;dbl&gt;</th></tr>\n",
       "</thead>\n",
       "<tbody>\n",
       "\t<tr><td>10</td><td> 70</td><td> 50</td><td> 6</td></tr>\n",
       "\t<tr><td>60</td><td>140</td><td>100</td><td>18</td></tr>\n",
       "</tbody>\n",
       "</table>\n"
      ],
      "text/latex": [
       "A tibble: 2 × 4\n",
       "\\begin{tabular}{llll}\n",
       " Age & SystolicBP & DiastolicBP & BloodSugar\\\\\n",
       " <dbl> & <dbl> & <dbl> & <dbl>\\\\\n",
       "\\hline\n",
       "\t 10 &  70 &  50 &  6\\\\\n",
       "\t 60 & 140 & 100 & 18\\\\\n",
       "\\end{tabular}\n"
      ],
      "text/markdown": [
       "\n",
       "A tibble: 2 × 4\n",
       "\n",
       "| Age &lt;dbl&gt; | SystolicBP &lt;dbl&gt; | DiastolicBP &lt;dbl&gt; | BloodSugar &lt;dbl&gt; |\n",
       "|---|---|---|---|\n",
       "| 10 |  70 |  50 |  6 |\n",
       "| 60 | 140 | 100 | 18 |\n",
       "\n"
      ],
      "text/plain": [
       "  Age SystolicBP DiastolicBP BloodSugar\n",
       "1 10   70         50          6        \n",
       "2 60  140        100         18        "
      ]
     },
     "metadata": {},
     "output_type": "display_data"
    }
   ],
   "source": [
    "min_vals_mid <- training_set |>\n",
    "    filter(RiskLevel == \"mid risk\") |>\n",
    "    select(!RiskLevel) |>\n",
    "    map_df(min)\n",
    "\n",
    "max_vals_mid <- training_set |>\n",
    "    filter(RiskLevel == \"mid risk\") |>\n",
    "    select(!RiskLevel) |>\n",
    "    map_df(max)\n",
    "\n",
    "mid_risk_variable_range <- full_join(min_vals_mid, max_vals_mid)\n",
    "\n",
    "mid_risk_variable_range\n"
   ]
  },
  {
   "cell_type": "markdown",
   "id": "7367becb-97cb-456f-9489-4f75cf69c2c3",
   "metadata": {},
   "source": [
    "Table 4 shows the range of each variable for pregnancies categorized as mid risk: the age ranged from 10-60 years old, the Systolic BP ranged from 70-140 mmHg, the Diastolic BP ranged from 50-100 mmHg, and the blood sugar ranged from 6-18 mmol/L."
   ]
  },
  {
   "cell_type": "markdown",
   "id": "6bd66cd4-e35f-4b77-99f3-877417b1ba8f",
   "metadata": {},
   "source": [
    "#### Table 5: Max and Minimum Values of the Four Chosen Variables in High Risk Pregnancies"
   ]
  },
  {
   "cell_type": "code",
   "execution_count": 8,
   "id": "b9db3718-f49b-4380-be08-cd82a9858666",
   "metadata": {},
   "outputs": [
    {
     "name": "stderr",
     "output_type": "stream",
     "text": [
      "\u001b[1m\u001b[22mJoining, by = c(\"Age\", \"SystolicBP\", \"DiastolicBP\", \"BloodSugar\")\n"
     ]
    },
    {
     "data": {
      "text/html": [
       "<table class=\"dataframe\">\n",
       "<caption>A tibble: 2 × 4</caption>\n",
       "<thead>\n",
       "\t<tr><th scope=col>Age</th><th scope=col>SystolicBP</th><th scope=col>DiastolicBP</th><th scope=col>BloodSugar</th></tr>\n",
       "\t<tr><th scope=col>&lt;dbl&gt;</th><th scope=col>&lt;dbl&gt;</th><th scope=col>&lt;dbl&gt;</th><th scope=col>&lt;dbl&gt;</th></tr>\n",
       "</thead>\n",
       "<tbody>\n",
       "\t<tr><td>10</td><td> 70</td><td> 49</td><td> 6</td></tr>\n",
       "\t<tr><td>70</td><td>129</td><td>100</td><td>11</td></tr>\n",
       "</tbody>\n",
       "</table>\n"
      ],
      "text/latex": [
       "A tibble: 2 × 4\n",
       "\\begin{tabular}{llll}\n",
       " Age & SystolicBP & DiastolicBP & BloodSugar\\\\\n",
       " <dbl> & <dbl> & <dbl> & <dbl>\\\\\n",
       "\\hline\n",
       "\t 10 &  70 &  49 &  6\\\\\n",
       "\t 70 & 129 & 100 & 11\\\\\n",
       "\\end{tabular}\n"
      ],
      "text/markdown": [
       "\n",
       "A tibble: 2 × 4\n",
       "\n",
       "| Age &lt;dbl&gt; | SystolicBP &lt;dbl&gt; | DiastolicBP &lt;dbl&gt; | BloodSugar &lt;dbl&gt; |\n",
       "|---|---|---|---|\n",
       "| 10 |  70 |  49 |  6 |\n",
       "| 70 | 129 | 100 | 11 |\n",
       "\n"
      ],
      "text/plain": [
       "  Age SystolicBP DiastolicBP BloodSugar\n",
       "1 10   70         49          6        \n",
       "2 70  129        100         11        "
      ]
     },
     "metadata": {},
     "output_type": "display_data"
    }
   ],
   "source": [
    "min_vals_low <- training_set |>\n",
    "    filter(RiskLevel == \"low risk\") |>\n",
    "    select(!RiskLevel) |>\n",
    "    map_df(min) \n",
    "\n",
    "max_vals_low <- training_set |>\n",
    "    filter(RiskLevel == \"low risk\") |>\n",
    "    select(!RiskLevel) |>\n",
    "    map_df(max)\n",
    "\n",
    "low_risk_variable_range <- full_join(min_vals_low, max_vals_low)\n",
    "\n",
    "low_risk_variable_range"
   ]
  },
  {
   "cell_type": "markdown",
   "id": "6e5f76da-6e9e-401a-b917-ea838a11060d",
   "metadata": {},
   "source": [
    "Table 5 shows the range of each variable for pregnancies categorized as low risk: the age ranged from 10-70 years old, the Systolic BP ranged from 70-129 mmHg, the Diastolic BP ranged from 49-100 mmHg, and the blood sugar ranged from 6-11 mmol/L."
   ]
  },
  {
   "cell_type": "code",
   "execution_count": 10,
   "id": "91d886be-a71a-4710-951d-b9bb0d1c0f45",
   "metadata": {},
   "outputs": [
    {
     "data": {
      "image/png": "[encoded data removed]",
      "text/plain": [
       "plot without title"
      ]
     },
     "metadata": {
      "image/png": {
       "height": 420,
       "width": 420
      }
     },
     "output_type": "display_data"
    }
   ],
   "source": [
    "set.seed(1)\n",
    "\n",
    "maternal_recipe <- recipe(RiskLevel ~ ., data=training_set) |>\n",
    "    step_scale(all_predictors()) |>\n",
    "    step_center(all_predictors())\n",
    "\n",
    "maternal_vfold <- vfold_cv(training_set, v = 10, strata = RiskLevel)\n",
    "\n",
    "knn_spec <- nearest_neighbor(weight_func = \"rectangular\", neighbors = tune()) |>\n",
    "    set_engine(\"kknn\") |>\n",
    "    set_mode(\"classification\")\n",
    "\n",
    "knn_results <- workflow() |>\n",
    "    add_recipe(maternal_recipe) |>\n",
    "    add_model(knn_spec) |>\n",
    "    tune_grid(resamples = maternal_vfold, grid = 20) |>\n",
    "    collect_metrics() \n",
    "\n",
    "accuracies <- knn_results |>\n",
    "    filter(.metric == \"accuracy\")\n",
    "\n",
    "accuracies_plot <- ggplot(accuracies, aes(x = neighbors, y = mean)) +\n",
    "  geom_point() +\n",
    "  geom_line() +\n",
    "  labs(x = \"Neighbors for knn\", y = \"Mean Accuracy\") + \n",
    "  theme(text = element_text(size = 12))\n",
    "\n",
    "accuracies_plot"
   ]
  },
  {
   "cell_type": "code",
   "execution_count": 11,
   "id": "8e86a089-ab7e-4b30-8879-2c4214cf4c95",
   "metadata": {},
   "outputs": [
    {
     "data": {
      "text/html": [
       "<table class=\"dataframe\">\n",
       "<caption>A tibble: 1 × 3</caption>\n",
       "<thead>\n",
       "\t<tr><th scope=col>.metric</th><th scope=col>.estimator</th><th scope=col>.estimate</th></tr>\n",
       "\t<tr><th scope=col>&lt;chr&gt;</th><th scope=col>&lt;chr&gt;</th><th scope=col>&lt;dbl&gt;</th></tr>\n",
       "</thead>\n",
       "<tbody>\n",
       "\t<tr><td>accuracy</td><td>multiclass</td><td>0.7913386</td></tr>\n",
       "</tbody>\n",
       "</table>\n"
      ],
      "text/latex": [
       "A tibble: 1 × 3\n",
       "\\begin{tabular}{lll}\n",
       " .metric & .estimator & .estimate\\\\\n",
       " <chr> & <chr> & <dbl>\\\\\n",
       "\\hline\n",
       "\t accuracy & multiclass & 0.7913386\\\\\n",
       "\\end{tabular}\n"
      ],
      "text/markdown": [
       "\n",
       "A tibble: 1 × 3\n",
       "\n",
       "| .metric &lt;chr&gt; | .estimator &lt;chr&gt; | .estimate &lt;dbl&gt; |\n",
       "|---|---|---|\n",
       "| accuracy | multiclass | 0.7913386 |\n",
       "\n"
      ],
      "text/plain": [
       "  .metric  .estimator .estimate\n",
       "1 accuracy multiclass 0.7913386"
      ]
     },
     "metadata": {},
     "output_type": "display_data"
    },
    {
     "data": {
      "text/plain": [
       "           Truth\n",
       "Prediction  high risk low risk mid risk\n",
       "  high risk        56        1        7\n",
       "  low risk          4       86       18\n",
       "  mid risk          8       15       59"
      ]
     },
     "metadata": {},
     "output_type": "display_data"
    }
   ],
   "source": [
    "best_k <- 2\n",
    "best_knn_spec <- nearest_neighbor(weight_func = \"rectangular\", neighbors = best_k) |>\n",
    "    set_engine(\"kknn\") |>\n",
    "    set_mode(\"classification\")\n",
    "\n",
    "best_knn_fit <- workflow() |>\n",
    "    add_recipe(maternal_recipe) |>\n",
    "    add_model(best_knn_spec) |>\n",
    "    fit(data=training_set)\n",
    "\n",
    "testing_set_predictions <- predict(best_knn_fit, testing_set) |>\n",
    "    bind_cols(testing_set)\n",
    "\n",
    "testing_set_accuracies <- testing_set_predictions |>\n",
    "    metrics(truth = RiskLevel, estimate = .pred_class) |>\n",
    "    filter(.metric == \"accuracy\")\n",
    "\n",
    "testing_set_accuracies\n",
    "\n",
    "testing_set_confusion <- testing_set_predictions |>\n",
    "    conf_mat(truth = RiskLevel, estimate = .pred_class)\n",
    "\n",
    "testing_set_confusion"
   ]
  },
  {
   "cell_type": "code",
   "execution_count": null,
   "id": "0fdb521f-d062-4c27-8ccf-67b3c27272e9",
   "metadata": {},
   "outputs": [],
   "source": []
  }
 ],
 "metadata": {
  "kernelspec": {
   "display_name": "R",
   "language": "R",
   "name": "ir"
  },
  "language_info": {
   "codemirror_mode": "r",
   "file_extension": ".r",
   "mimetype": "text/x-r-source",
   "name": "R",
   "pygments_lexer": "r",
   "version": "4.1.3"
  }
 },
 "nbformat": 4,
 "nbformat_minor": 5
}
