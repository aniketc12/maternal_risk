{
 "cells": [
  {
   "cell_type": "markdown",
   "id": "5ee39548-29f4-438b-878f-7cfd7d22c682",
   "metadata": {},
   "source": [
    "# Classifying the Risk Intensity Level for Maternal Mortality during Pregnancy\n",
    "#### Raychal Ng, Aniket Chakraborty, Hamrah R, Revanda Ghassan R"
   ]
  },
  {
   "cell_type": "markdown",
   "id": "2cedb035-d1b0-4ecd-8bf5-cce54ec3497b",
   "metadata": {},
   "source": [
    "### Introduction"
   ]
  },
  {
   "cell_type": "markdown",
   "id": "c9d454c1-7bb1-450e-b821-21e7b94933b9",
   "metadata": {},
   "source": [
    "This dataset presents six factors that affect maternal mortality: age; systolic BP ( pressure in the arteries when the heart beats in mmHg); diastolic BP (pressure in the arteries during rests between beats in mmHg); blood sugar (blood glucose level in mmol/L), body temperature, and heart rate in beats per minute. Deviation from normal levels in these factors contributes to maternal mortality. The data was obtained from different hospitals and clinics in Bangladesh. It was collected using the loT-based risk monitoring system which contains data from mechanical and digital machines used on patients. The risk level for mortality was classified for 1014 pregnancies based on midwifery assessments. \n",
    "\n",
    "#### Predictive Question\n",
    "We aim to answer the question: Can we reliably predict maternal mortality in the future based on data collected during patient admission, i.e. age, systolic BP, diastolic BP and blood sugar."
   ]
  },
  {
   "cell_type": "markdown",
   "id": "218d41fe-d4ad-4093-a545-7ae3044044bb",
   "metadata": {},
   "source": [
    "### Preliminary Exploratory Data Analysis "
   ]
  },
  {
   "cell_type": "markdown",
   "id": "5a5d0e3a-7796-4c41-8ea7-453b90bcca37",
   "metadata": {},
   "source": [
    "In Table 1, the distribution of the three risk levels for maternal mortality was tabulated to determine the spread of data across the classes. The number of data points for each class is relatively equal, so no further balancing of data is needed. In table 2, the total number of NA values across the training set was summed to account for any missing data in the observations, however none of the observations contain an NA value so they are all necessary for our data classification. Tables 3 to 5 shows the range (max and min) of the four chosen variables (age, systolic BP, diastolic BP, and blood sugar) for high, mid and low risk pregnancies, respectively. There is a wide range of data for each class and the max and min of the four variables do not differ drastically between the classes. Graphs 1 to 4 show the distribution of data for each chosen variable using a histogram. The risk level for maternal mortality was visualized using different colors. The graphs show correlations between each variable and the risk level for maternal mortality."
   ]
  },
  {
   "cell_type": "code",
   "execution_count": 1,
   "id": "6589b0f4-5427-4a3d-b52c-f1ace2236187",
   "metadata": {},
   "outputs": [
    {
     "name": "stderr",
     "output_type": "stream",
     "text": [
      "── \u001b[1mAttaching packages\u001b[22m ─────────────────────────────────────── tidyverse 1.3.1 ──\n",
      "\n",
      "\u001b[32m✔\u001b[39m \u001b[34mggplot2\u001b[39m 3.3.6     \u001b[32m✔\u001b[39m \u001b[34mpurrr  \u001b[39m 0.3.4\n",
      "\u001b[32m✔\u001b[39m \u001b[34mtibble \u001b[39m 3.1.7     \u001b[32m✔\u001b[39m \u001b[34mdplyr  \u001b[39m 1.0.9\n",
      "\u001b[32m✔\u001b[39m \u001b[34mtidyr  \u001b[39m 1.2.0     \u001b[32m✔\u001b[39m \u001b[34mstringr\u001b[39m 1.4.0\n",
      "\u001b[32m✔\u001b[39m \u001b[34mreadr  \u001b[39m 2.1.2     \u001b[32m✔\u001b[39m \u001b[34mforcats\u001b[39m 0.5.1\n",
      "\n",
      "── \u001b[1mConflicts\u001b[22m ────────────────────────────────────────── tidyverse_conflicts() ──\n",
      "\u001b[31m✖\u001b[39m \u001b[34mdplyr\u001b[39m::\u001b[32mfilter()\u001b[39m masks \u001b[34mstats\u001b[39m::filter()\n",
      "\u001b[31m✖\u001b[39m \u001b[34mdplyr\u001b[39m::\u001b[32mlag()\u001b[39m    masks \u001b[34mstats\u001b[39m::lag()\n",
      "\n",
      "── \u001b[1mAttaching packages\u001b[22m ────────────────────────────────────── tidymodels 1.0.0 ──\n",
      "\n",
      "\u001b[32m✔\u001b[39m \u001b[34mbroom       \u001b[39m 1.0.0     \u001b[32m✔\u001b[39m \u001b[34mrsample     \u001b[39m 1.0.0\n",
      "\u001b[32m✔\u001b[39m \u001b[34mdials       \u001b[39m 1.0.0     \u001b[32m✔\u001b[39m \u001b[34mtune        \u001b[39m 1.0.0\n",
      "\u001b[32m✔\u001b[39m \u001b[34minfer       \u001b[39m 1.0.2     \u001b[32m✔\u001b[39m \u001b[34mworkflows   \u001b[39m 1.0.0\n",
      "\u001b[32m✔\u001b[39m \u001b[34mmodeldata   \u001b[39m 1.0.0     \u001b[32m✔\u001b[39m \u001b[34mworkflowsets\u001b[39m 1.0.0\n",
      "\u001b[32m✔\u001b[39m \u001b[34mparsnip     \u001b[39m 1.0.0     \u001b[32m✔\u001b[39m \u001b[34myardstick   \u001b[39m 1.0.0\n",
      "\u001b[32m✔\u001b[39m \u001b[34mrecipes     \u001b[39m 1.0.1     \n",
      "\n",
      "── \u001b[1mConflicts\u001b[22m ───────────────────────────────────────── tidymodels_conflicts() ──\n",
      "\u001b[31m✖\u001b[39m \u001b[34mscales\u001b[39m::\u001b[32mdiscard()\u001b[39m masks \u001b[34mpurrr\u001b[39m::discard()\n",
      "\u001b[31m✖\u001b[39m \u001b[34mdplyr\u001b[39m::\u001b[32mfilter()\u001b[39m   masks \u001b[34mstats\u001b[39m::filter()\n",
      "\u001b[31m✖\u001b[39m \u001b[34mrecipes\u001b[39m::\u001b[32mfixed()\u001b[39m  masks \u001b[34mstringr\u001b[39m::fixed()\n",
      "\u001b[31m✖\u001b[39m \u001b[34mdplyr\u001b[39m::\u001b[32mlag()\u001b[39m      masks \u001b[34mstats\u001b[39m::lag()\n",
      "\u001b[31m✖\u001b[39m \u001b[34myardstick\u001b[39m::\u001b[32mspec()\u001b[39m masks \u001b[34mreadr\u001b[39m::spec()\n",
      "\u001b[31m✖\u001b[39m \u001b[34mrecipes\u001b[39m::\u001b[32mstep()\u001b[39m   masks \u001b[34mstats\u001b[39m::step()\n",
      "\u001b[34m•\u001b[39m Use \u001b[32mtidymodels_prefer()\u001b[39m to resolve common conflicts.\n",
      "\n",
      "\n",
      "Attaching package: ‘gridExtra’\n",
      "\n",
      "\n",
      "The following object is masked from ‘package:dplyr’:\n",
      "\n",
      "    combine\n",
      "\n",
      "\n"
     ]
    }
   ],
   "source": [
    "library(tidyverse)\n",
    "library(tidymodels)\n",
    "library(gridExtra)\n",
    "library(RColorBrewer)"
   ]
  },
  {
   "cell_type": "code",
   "execution_count": 2,
   "id": "db2e39df-60c3-4f4f-91e8-72996618a8fa",
   "metadata": {},
   "outputs": [
    {
     "name": "stderr",
     "output_type": "stream",
     "text": [
      "\u001b[1mRows: \u001b[22m\u001b[34m1014\u001b[39m \u001b[1mColumns: \u001b[22m\u001b[34m7\u001b[39m\n",
      "\u001b[36m──\u001b[39m \u001b[1mColumn specification\u001b[22m \u001b[36m────────────────────────────────────────────────────────\u001b[39m\n",
      "\u001b[1mDelimiter:\u001b[22m \",\"\n",
      "\u001b[31mchr\u001b[39m (1): RiskLevel\n",
      "\u001b[32mdbl\u001b[39m (6): Age, SystolicBP, DiastolicBP, BS, BodyTemp, HeartRate\n",
      "\n",
      "\u001b[36mℹ\u001b[39m Use `spec()` to retrieve the full column specification for this data.\n",
      "\u001b[36mℹ\u001b[39m Specify the column types or set `show_col_types = FALSE` to quiet this message.\n"
     ]
    }
   ],
   "source": [
    "maternal_health_dataset <- read_csv(\"https://raw.githubusercontent.com/aniketc12/maternal_risk/main/data/maternal_health_risk.csv\")\n",
    "maternal_health_dataset <- maternal_health_dataset |>\n",
    "    mutate(RiskLevel =as_factor(RiskLevel)) |>\n",
    "    select(!c(HeartRate, BodyTemp))"
   ]
  },
  {
   "cell_type": "code",
   "execution_count": 3,
   "id": "5fb48366-d7b0-409f-9953-ccb6d94ffb7c",
   "metadata": {},
   "outputs": [],
   "source": [
    "maternal_split <- initial_split(maternal_health_dataset, prop = 0.75, strata = RiskLevel)\n",
    "training_set <- training(maternal_split)\n",
    "testing_set <- testing(maternal_split)"
   ]
  },
  {
   "cell_type": "code",
   "execution_count": 4,
   "id": "4aa0ea13-fa6a-4851-9543-7c068d04895d",
   "metadata": {},
   "outputs": [],
   "source": [
    "risk_distribution <- training_set |>\n",
    "group_by(RiskLevel) |>\n",
    "summarize(n=n())"
   ]
  },
  {
   "cell_type": "code",
   "execution_count": 5,
   "id": "49a10f61-7bbe-493b-9939-70836770d097",
   "metadata": {},
   "outputs": [],
   "source": [
    "na <- tibble(number_of_na_values = sum(is.na(training_set)))"
   ]
  },
  {
   "cell_type": "code",
   "execution_count": 6,
   "id": "9359efa4-768d-4230-8c85-8282aaaf21e5",
   "metadata": {},
   "outputs": [
    {
     "ename": "ERROR",
     "evalue": "Error in Summary.factor(structure(c(1L, 1L, 1L, 1L, 1L, 1L, 1L, 1L, 1L, : ‘min’ not meaningful for factors\n",
     "output_type": "error",
     "traceback": [
      "Error in Summary.factor(structure(c(1L, 1L, 1L, 1L, 1L, 1L, 1L, 1L, 1L, : ‘min’ not meaningful for factors\nTraceback:\n",
      "1. map_df(filter(training_set, RiskLevel == \"high risk\"), min)",
      "2. map(.x, .f, ...)",
      "3. .f(.x[[i]], ...)",
      "4. Summary.factor(structure(c(1L, 1L, 1L, 1L, 1L, 1L, 1L, 1L, 1L, \n . 1L, 1L, 1L, 1L, 1L, 1L, 1L, 1L, 1L, 1L, 1L, 1L, 1L, 1L, 1L, 1L, \n . 1L, 1L, 1L, 1L, 1L, 1L, 1L, 1L, 1L, 1L, 1L, 1L, 1L, 1L, 1L, 1L, \n . 1L, 1L, 1L, 1L, 1L, 1L, 1L, 1L, 1L, 1L, 1L, 1L, 1L, 1L, 1L, 1L, \n . 1L, 1L, 1L, 1L, 1L, 1L, 1L, 1L, 1L, 1L, 1L, 1L, 1L, 1L, 1L, 1L, \n . 1L, 1L, 1L, 1L, 1L, 1L, 1L, 1L, 1L, 1L, 1L, 1L, 1L, 1L, 1L, 1L, \n . 1L, 1L, 1L, 1L, 1L, 1L, 1L, 1L, 1L, 1L, 1L, 1L, 1L, 1L, 1L, 1L, \n . 1L, 1L, 1L, 1L, 1L, 1L, 1L, 1L, 1L, 1L, 1L, 1L, 1L, 1L, 1L, 1L, \n . 1L, 1L, 1L, 1L, 1L, 1L, 1L, 1L, 1L, 1L, 1L, 1L, 1L, 1L, 1L, 1L, \n . 1L, 1L, 1L, 1L, 1L, 1L, 1L, 1L, 1L, 1L, 1L, 1L, 1L, 1L, 1L, 1L, \n . 1L, 1L, 1L, 1L, 1L, 1L, 1L, 1L, 1L, 1L, 1L, 1L, 1L, 1L, 1L, 1L, \n . 1L, 1L, 1L, 1L, 1L, 1L, 1L, 1L, 1L, 1L, 1L, 1L, 1L, 1L, 1L, 1L, \n . 1L, 1L, 1L, 1L, 1L, 1L, 1L, 1L, 1L, 1L, 1L, 1L, 1L, 1L, 1L, 1L, \n . 1L, 1L, 1L), .Label = c(\"high risk\", \"low risk\", \"mid risk\"), class = \"factor\"), \n .     na.rm = FALSE)",
      "5. stop(gettextf(\"%s not meaningful for factors\", sQuote(.Generic)))"
     ]
    }
   ],
   "source": [
    "min_vals_high <- training_set |>\n",
    "    filter(RiskLevel == \"high risk\") |> \n",
    "    map_df(min) \n",
    "\n",
    "max_vals_high <- training_set |>\n",
    "    filter(RiskLevel == \"high risk\") |>\n",
    "    map_df(max)\n",
    "\n",
    "min_vals_mid <- training_set |>\n",
    "    filter(RiskLevel == \"mid risk\") |>\n",
    "    map_df(min) \n",
    "max_vals_mid <- training_set |>\n",
    "    filter(RiskLevel == \"mid risk\") |>\n",
    "    map_df(max)\n",
    "\n",
    "min_vals_low <- training_set |>\n",
    "    filter(RiskLevel == \"low risk\") |>\n",
    "    map_df(min) \n",
    "\n",
    "max_vals_low <- training_set |>\n",
    "    filter(RiskLevel == \"low risk\") |>\n",
    "    map_df(max)"
   ]
  },
  {
   "cell_type": "code",
   "execution_count": null,
   "id": "4659db14-f87b-45c3-b377-9b7d4cd0fe83",
   "metadata": {},
   "outputs": [],
   "source": [
    "age_histogram <-  ggplot(training_set, aes(x = Age)) + \n",
    "geom_histogram(bins = 10, aes(fill = factor(RiskLevel, levels = c(\"high risk\", \"mid risk\", \"low risk\")))) +\n",
    "labs(x = \"Age (years)\", y = \"Number of Patients\", fill = \"Risk Level\") +\n",
    "theme(text = element_text(size = 18)) +\n",
    "ggtitle(\"Risk Level for Maternal Mortality \\nbased on Age\")\n",
    "\n",
    "systolic_histogram <-  ggplot(training_set, aes(x = SystolicBP)) + \n",
    "geom_histogram(bins = 10, aes(fill = factor(RiskLevel, levels = c(\"high risk\", \"mid risk\", \"low risk\")))) +\n",
    "labs(x = \"Systolic Blood Pressure (mmHg)\", y = \"Number of Patients\", fill = \"Risk Level\") +\n",
    "theme(text = element_text(size = 18)) +\n",
    "ggtitle(\"Risk Level for Maternal Mortality \\nbased on Systolic BP\")\n",
    "\n",
    "diastolic_histogram <-  ggplot(training_set, aes(x = DiastolicBP)) + \n",
    "geom_histogram(bins = 10, aes(fill = factor(RiskLevel, levels = c(\"high risk\", \"mid risk\", \"low risk\")))) +\n",
    "labs(x = \"Diastolic Blood Pressure (mmHg)\", y = \"Number of Patients\", fill = \"Risk Level\") +\n",
    "theme(text = element_text(size = 18)) +\n",
    "ggtitle(\"Risk Level for Maternal Mortality \\nbased on Diastolic BP\")\n",
    "\n",
    "bs_histogram <- ggplot(training_set, aes(x = BS)) + \n",
    "geom_histogram(bins = 7, aes(fill = factor(RiskLevel, levels = c(\"high risk\", \"mid risk\", \"low risk\")))) +\n",
    "labs(x = \"Blood Sugar (mmol / L)\", y = \"Number of Patients\", fill = \"Risk Level\") +\n",
    "theme(text = element_text(size = 18)) +\n",
    "ggtitle(\"Risk Level for Maternal Mortality \\nbased on Blood Sugar\")\n"
   ]
  },
  {
   "cell_type": "code",
   "execution_count": null,
   "id": "944e755b-7ee8-45d6-a978-3f2f9a6fc12e",
   "metadata": {},
   "outputs": [],
   "source": [
    "risk_distribution\n",
    "\n",
    "na\n",
    "\n",
    "full_join(min_vals_high, max_vals_high)\n",
    "full_join(min_vals_mid, max_vals_mid)\n",
    "full_join(min_vals_low, max_vals_low)\n",
    "\n",
    "options(repr.plot.height = 7, repr.plot.width = 20)\n",
    "grid.arrange(age_histogram, systolic_histogram, nrow = 1)\n",
    "grid.arrange(diastolic_histogram, bs_histogram, nrow = 1)"
   ]
  },
  {
   "cell_type": "markdown",
   "id": "9b4c4bd5-9b27-433b-a275-5c9f6d0227e4",
   "metadata": {},
   "source": [
    "### Methods"
   ]
  },
  {
   "cell_type": "markdown",
   "id": "5e6d582a-cc02-44b9-9ef0-e3d699b005a3",
   "metadata": {},
   "source": [
    "To conduct our data analysis, we will create tables and visualizations based on our chosen variables. We will then use the KNN classification algorithm with a 5-fold cross-validation to find the best K to use for our prediction. Using this K, we will perform our classification and gather its accuracy. The variables we will use in our analysis are age, systolic BP, diastolic BP, and blood sugar. This was chosen by visualizing the distribution of the classes for each variable individually and examining its co-relationship with each class. These variables also aligned with our intuitive knowledge of the severity of each risk factor. \n",
    "To visualize our results, we will first determine the model’s test accuracy and illustrate this with a confusion matrix to compare the true versus predicted classes. This will give us insight into the kind of errors the classifier makes. Then, we will utilize a bar graph to visualize how accurate the classifier is at predicting each class, along with the number of false positives and false negatives. \n",
    " "
   ]
  },
  {
   "cell_type": "markdown",
   "id": "c612c87a-4682-43f3-a7bf-45313da89981",
   "metadata": {},
   "source": [
    "### Expected Outcomes and Significance"
   ]
  },
  {
   "cell_type": "markdown",
   "id": "5b4c4b25-bc67-47ef-8ebd-a8fcc1c2af64",
   "metadata": {},
   "source": [
    "We expect to find that a high variance from the homeostatic levels for each variable leads to a higher risk in maternal mortality. We believe that this model can help hospitals determine the maternal mortality risk of their patients. Thus, hospitals will be able to save intake time and prioritize at risk patients appropriately based on their collected vitals. This study can further uncover other possible factors that should be considered, such as specific diseases that affect pregnancy risk level. "
   ]
  }
 ],
 "metadata": {
  "kernelspec": {
   "display_name": "R",
   "language": "R",
   "name": "ir"
  },
  "language_info": {
   "codemirror_mode": "r",
   "file_extension": ".r",
   "mimetype": "text/x-r-source",
   "name": "R",
   "pygments_lexer": "r",
   "version": "4.1.3"
  }
 },
 "nbformat": 4,
 "nbformat_minor": 5
}
