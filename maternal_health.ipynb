{
 "cells": [
  {
   "cell_type": "markdown",
   "id": "5ee39548-29f4-438b-878f-7cfd7d22c682",
   "metadata": {},
   "source": [
    "# Classifying the Risk Intensity Level for Maternal Mortality during Pregnancy"
   ]
  },
  {
   "cell_type": "markdown",
   "id": "2cedb035-d1b0-4ecd-8bf5-cce54ec3497b",
   "metadata": {},
   "source": [
    "### Introduction"
   ]
  },
  {
   "cell_type": "markdown",
   "id": "c9d454c1-7bb1-450e-b821-21e7b94933b9",
   "metadata": {},
   "source": [
    "Reducing maternal mortality falls under the UN’s Third Sustainability Goal: good health and wellbeing. Significant risk factors that are responsible for maternal mortality during or after pregnancy are age, Systolic Blood Pressure (BP) and Diastolic Blood Pressure, Blood Sugar, Body Temperature, and HeartRate. Age refers to age in years of the pregnant woman, systolic BP is the pressure in your arteries when your heart beats in mmHg, diastolic BP is the pressure in the arteries when the heart rests between beats in mmHg, blood sugar is the blood glucose level in mmol/L, and heart rate is the resting heart rate in beats per minute. High Diastolic BP, Systolic BP, and heart rate places high strain on the heart such that it can fail and low values for these causes a lack of blood circulation. Low blood sugar can starve the brain of oxygen while high blood sugar can lead to toxic acids in the brain. These factors were measured in different hospitals, community clinics and maternal health care clinics in Bangladesh and collected using the loT based risk monitoring system. The IoT based risk monitoring system is an internet network containing the data from the mechanical and digital machines and the human data using a unique identifier. 1014 pregnancies were classified for their risk intensity level on a case-by-case basis based on midwifery assessments. Using this data set, we aim to answer the question of what is the risk intensity level (high, medium, low) for maternal mortality during pregnancy based on these risk factors? "
   ]
  },
  {
   "cell_type": "markdown",
   "id": "218d41fe-d4ad-4093-a545-7ae3044044bb",
   "metadata": {},
   "source": [
    "### Preliminary Exploratory Data Analysis "
   ]
  },
  {
   "cell_type": "code",
   "execution_count": null,
   "id": "6589b0f4-5427-4a3d-b52c-f1ace2236187",
   "metadata": {},
   "outputs": [],
   "source": []
  }
 ],
 "metadata": {
  "kernelspec": {
   "display_name": "R",
   "language": "R",
   "name": "ir"
  },
  "language_info": {
   "codemirror_mode": "r",
   "file_extension": ".r",
   "mimetype": "text/x-r-source",
   "name": "R",
   "pygments_lexer": "r",
   "version": "4.1.3"
  }
 },
 "nbformat": 4,
 "nbformat_minor": 5
}
